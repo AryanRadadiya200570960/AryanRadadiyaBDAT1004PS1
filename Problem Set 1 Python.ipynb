{
 "cells": [
  {
   "cell_type": "markdown",
   "id": "b7be617a",
   "metadata": {},
   "source": [
    "<h3>Question 6 Python</h3>\n",
    "<h4>You can turn a word into pig-Latin using the following two rules (simplified):<br><br>\n",
    "1. If the word starts with a consonant, move that letter to the end and append\n",
    "'ay'. For example, 'happy' becomes 'appyhay' and 'pencil' becomes 'encilpay'.<br><br>\n",
    "2. If the word starts with a vowel, simply append 'way' to the end of the word.\n",
    "For example, 'enter' becomes 'enterway' and 'other' becomes 'otherway' . For\n",
    "our purposes, there are 5 vowels: a, e, i, o, u (so we count y as a consonant).<br><br>\n",
    "Write a function pig() that takes a word (i.e., a string) as input and returns its pigLatin form. Your function should still work if the input word contains upper case\n",
    "characters. Your output should always be lower case however. </h4>"
   ]
  },
  {
   "cell_type": "code",
   "execution_count": 32,
   "id": "b4634f62",
   "metadata": {},
   "outputs": [],
   "source": [
    "#Creating a function to convert any word to pig-Latin\n",
    "def pig(word):\n",
    "    vovel = ['a', 'e', 'i', 'o', 'u', 'A', 'E', 'I', 'O', 'U']\n",
    "    if word[0] in vovel: #Cheaking the first letter of word is vovel or consanant\n",
    "        latin = 'way'\n",
    "        latin_word = word + latin #appending the lating letter to convert to latin\n",
    "    else:\n",
    "        first_letter = word[0]\n",
    "        word = word.replace(word[0], '') #removing first letter of word\n",
    "        word += first_letter #appending that word at last\n",
    "        latin_word = word + 'ay' #appending the lating letter to convert to latin\n",
    "    return latin_word.lower() #Output must be in lower case"
   ]
  },
  {
   "cell_type": "code",
   "execution_count": 33,
   "id": "2c55571d",
   "metadata": {},
   "outputs": [
    {
     "data": {
      "text/plain": [
       "'appyhay'"
      ]
     },
     "execution_count": 33,
     "metadata": {},
     "output_type": "execute_result"
    }
   ],
   "source": [
    "pig('HaPpy')"
   ]
  },
  {
   "cell_type": "code",
   "execution_count": 34,
   "id": "35990471",
   "metadata": {},
   "outputs": [
    {
     "data": {
      "text/plain": [
       "'otherway'"
      ]
     },
     "execution_count": 34,
     "metadata": {},
     "output_type": "execute_result"
    }
   ],
   "source": [
    "pig('OTher')"
   ]
  },
  {
   "cell_type": "code",
   "execution_count": 35,
   "id": "83f2794f",
   "metadata": {},
   "outputs": [
    {
     "data": {
      "text/plain": [
       "'enterway'"
      ]
     },
     "execution_count": 35,
     "metadata": {},
     "output_type": "execute_result"
    }
   ],
   "source": [
    "pig('enter')"
   ]
  },
  {
   "cell_type": "code",
   "execution_count": 36,
   "id": "023ea2c6",
   "metadata": {},
   "outputs": [
    {
     "data": {
      "text/plain": [
       "'encilpay'"
      ]
     },
     "execution_count": 36,
     "metadata": {},
     "output_type": "execute_result"
    }
   ],
   "source": [
    "pig('peNcil')"
   ]
  },
  {
   "cell_type": "markdown",
   "id": "507648dc",
   "metadata": {},
   "source": [
    "<h3>Question 7 Python</h3>\n",
    "<h4>File bloodtype1.txt records blood-types of patients (A, B, AB, O or OO) at a clinic.\n",
    "Write a function bldcount() that reads the file with name name and reports (i.e.,\n",
    "prints) how many patients there are in each bloodtype.</h4>"
   ]
  },
  {
   "cell_type": "code",
   "execution_count": 41,
   "id": "ca8a12c3",
   "metadata": {},
   "outputs": [],
   "source": [
    "#opening the file using a variable\n",
    "blood_type = open('bloodtype1.txt')"
   ]
  },
  {
   "cell_type": "code",
   "execution_count": 42,
   "id": "fbf79a5e",
   "metadata": {},
   "outputs": [],
   "source": [
    "def bldcount():\n",
    "    blood = ['A', 'B', 'AB', 'O', 'OO'] #defining different type of blood\n",
    "    count = 0 #to store count of blood type\n",
    "    blood_ty = blood_type.readline() #Reading the data from file\n",
    "    blood_data = blood_ty.split(\" \")\n",
    "    blood_data.pop() #removing last junk value\n",
    "    for i in range(len(blood)): \n",
    "        for j in range(len(blood_data)):\n",
    "            if blood[i] == blood_data[j]: #checking if the blood type is inside the file\n",
    "                count+=1 #if the blood type is found it will count the data\n",
    "        print(\"There are \", count, \"patients of blood type\", blood[i])\n",
    "        count = 0 #resetting the count variable"
   ]
  },
  {
   "cell_type": "code",
   "execution_count": 43,
   "id": "70e1825b",
   "metadata": {},
   "outputs": [
    {
     "name": "stdout",
     "output_type": "stream",
     "text": [
      "There are  15 patients of blood type A\n",
      "There are  1 patients of blood type B\n",
      "There are  13 patients of blood type AB\n",
      "There are  15 patients of blood type O\n",
      "There are  0 patients of blood type OO\n"
     ]
    }
   ],
   "source": [
    "#Running the function\n",
    "bldcount()"
   ]
  },
  {
   "cell_type": "markdown",
   "id": "94f04591",
   "metadata": {},
   "source": [
    "<h3>Question 8 Python</h3>\n",
    "<h4>Write a function curconv() that takes as input:<br><br>\n",
    "1. a currency represented using a string (e.g., 'JPY' for the Japanese Yen or\n",
    "'EUR' for the Euro)<br><br>\n",
    "2. an amount<br><br>\n",
    "and then converts and returns the amount in US dollars.</h4>"
   ]
  },
  {
   "cell_type": "code",
   "execution_count": 25,
   "id": "4b63675d",
   "metadata": {},
   "outputs": [
    {
     "data": {
      "text/plain": [
       "{'AUD': 1.0345157,\n",
       " 'CHF': 1.0237414,\n",
       " 'CNY': 0.1550176,\n",
       " 'DKK': 0.1651442,\n",
       " 'EUR': 1.2296544,\n",
       " 'GBP': 1.5550989,\n",
       " 'HKD': 0.1270207,\n",
       " 'INR': 0.0177643,\n",
       " 'JPY': 0.01241401,\n",
       " 'MXN': 0.0751848,\n",
       " 'MYR': 0.3145411,\n",
       " 'NOK': 0.1677063,\n",
       " 'NZD': 0.8003591,\n",
       " 'PHP': 0.0233234,\n",
       " 'SEK': 0.148269,\n",
       " 'SGD': 0.788871,\n",
       " 'THB': 0.0313789}"
      ]
     },
     "execution_count": 25,
     "metadata": {},
     "output_type": "execute_result"
    }
   ],
   "source": [
    "currency  = open(\"currencies.txt\") #Opening the text file\n",
    "currency_data = currency.read() #Reading the text file\n",
    "currency_data = currency_data.split('\\n') #spliting the data accrording to use\n",
    "#spliting and converting the data into list, also removing currency name column\n",
    "currency_data = [a.split('\\t')[:2] for a in currency_data] \n",
    "#Converting the list into data dictionary so the we can use it properly\n",
    "currency_data = {info[0]: float(info[1]) for info in currency_data} \n",
    "currency_data"
   ]
  },
  {
   "cell_type": "code",
   "execution_count": 26,
   "id": "bc3e5bed",
   "metadata": {},
   "outputs": [],
   "source": [
    "def curconv(cur, amt): #creating the function to calculate currency in USD\n",
    "    if cur in currency_data: #Checking the currency is present in the data dictionary\n",
    "        usd_amt = amt * currency_data[cur] #Converting to USD\n",
    "    return usd_amt"
   ]
  },
  {
   "cell_type": "code",
   "execution_count": 27,
   "id": "8b71e29e",
   "metadata": {},
   "outputs": [
    {
     "data": {
      "text/plain": [
       "122.96544"
      ]
     },
     "execution_count": 27,
     "metadata": {},
     "output_type": "execute_result"
    }
   ],
   "source": [
    "curconv('EUR',100)"
   ]
  },
  {
   "cell_type": "code",
   "execution_count": 28,
   "id": "73351ed0",
   "metadata": {},
   "outputs": [
    {
     "data": {
      "text/plain": [
       "1.241401"
      ]
     },
     "execution_count": 28,
     "metadata": {},
     "output_type": "execute_result"
    }
   ],
   "source": [
    "curconv('JPY',100)"
   ]
  },
  {
   "cell_type": "markdown",
   "id": "770f2b33",
   "metadata": {},
   "source": [
    "<h3>Question 9 Python</h3>\n",
    "<h4>Each of the following will cause an exception (an error). Identify what type of\n",
    "exception each will cause.<br><br>\n",
    "-Trying to add incompatible variables, as in\n",
    "adding 6 + ‘a’<br><br>\n",
    "-Referring to the 12th item of a list that has only 10\n",
    "items<br><br>\n",
    "-Using a value that is out of range for a function’s\n",
    "input, such as calling math.sqrt(-1.0)<br><br>\n",
    "-Using an undeclared variable, such as print(x)\n",
    "when x has not been defined<br><br>\n",
    "-Trying to open a file that does not exist, such as\n",
    "mistyping the file name or looking in the wrong\n",
    "directory. <h4>"
   ]
  },
  {
   "cell_type": "code",
   "execution_count": 44,
   "id": "f4ba1549",
   "metadata": {},
   "outputs": [
    {
     "ename": "TypeError",
     "evalue": "unsupported operand type(s) for +: 'int' and 'str'",
     "output_type": "error",
     "traceback": [
      "\u001b[1;31m---------------------------------------------------------------------------\u001b[0m",
      "\u001b[1;31mTypeError\u001b[0m                                 Traceback (most recent call last)",
      "Cell \u001b[1;32mIn[44], line 2\u001b[0m\n\u001b[0;32m      1\u001b[0m \u001b[38;5;66;03m#Trying to add incompatible variables, as in adding 6 + ‘a’\u001b[39;00m\n\u001b[1;32m----> 2\u001b[0m a \u001b[38;5;241m=\u001b[39m \u001b[38;5;241;43m6\u001b[39;49m\u001b[43m \u001b[49m\u001b[38;5;241;43m+\u001b[39;49m\u001b[43m \u001b[49m\u001b[38;5;124;43m'\u001b[39;49m\u001b[38;5;124;43ma\u001b[39;49m\u001b[38;5;124;43m'\u001b[39;49m\n",
      "\u001b[1;31mTypeError\u001b[0m: unsupported operand type(s) for +: 'int' and 'str'"
     ]
    }
   ],
   "source": [
    "#Trying to add incompatible variables, as in adding 6 + ‘a’\n",
    "a = 6 + 'a'"
   ]
  },
  {
   "cell_type": "code",
   "execution_count": 45,
   "id": "35256186",
   "metadata": {},
   "outputs": [
    {
     "ename": "IndexError",
     "evalue": "list index out of range",
     "output_type": "error",
     "traceback": [
      "\u001b[1;31m---------------------------------------------------------------------------\u001b[0m",
      "\u001b[1;31mIndexError\u001b[0m                                Traceback (most recent call last)",
      "Cell \u001b[1;32mIn[45], line 3\u001b[0m\n\u001b[0;32m      1\u001b[0m \u001b[38;5;66;03m#Referring to the 12th item of a list that has only 10 items\u001b[39;00m\n\u001b[0;32m      2\u001b[0m list1 \u001b[38;5;241m=\u001b[39m [\u001b[38;5;241m1\u001b[39m, \u001b[38;5;241m2\u001b[39m, \u001b[38;5;241m3\u001b[39m, \u001b[38;5;241m4\u001b[39m, \u001b[38;5;241m5\u001b[39m, \u001b[38;5;241m6\u001b[39m, \u001b[38;5;241m7\u001b[39m, \u001b[38;5;241m8\u001b[39m, \u001b[38;5;241m9\u001b[39m, \u001b[38;5;241m10\u001b[39m]\n\u001b[1;32m----> 3\u001b[0m \u001b[43mlist1\u001b[49m\u001b[43m[\u001b[49m\u001b[38;5;241;43m12\u001b[39;49m\u001b[43m]\u001b[49m\n",
      "\u001b[1;31mIndexError\u001b[0m: list index out of range"
     ]
    }
   ],
   "source": [
    "#Referring to the 12th item of a list that has only 10 items\n",
    "list1 = [1, 2, 3, 4, 5, 6, 7, 8, 9, 10]\n",
    "list1[12]"
   ]
  },
  {
   "cell_type": "code",
   "execution_count": 46,
   "id": "b6c7c2e2",
   "metadata": {},
   "outputs": [
    {
     "name": "stderr",
     "output_type": "stream",
     "text": [
      "C:\\Users\\Aryan\\AppData\\Local\\Temp\\ipykernel_10532\\1415367783.py:3: RuntimeWarning: invalid value encountered in sqrt\n",
      "  np.sqrt(-1.0)\n"
     ]
    },
    {
     "data": {
      "text/plain": [
       "nan"
      ]
     },
     "execution_count": 46,
     "metadata": {},
     "output_type": "execute_result"
    }
   ],
   "source": [
    "#Using a value that is out of range for a function’s input, such as calling math.sqrt(-1.0)\n",
    "import numpy as np\n",
    "np.sqrt(-1.0)"
   ]
  },
  {
   "cell_type": "code",
   "execution_count": 47,
   "id": "65d686f9",
   "metadata": {},
   "outputs": [
    {
     "ename": "NameError",
     "evalue": "name 'x' is not defined",
     "output_type": "error",
     "traceback": [
      "\u001b[1;31m---------------------------------------------------------------------------\u001b[0m",
      "\u001b[1;31mNameError\u001b[0m                                 Traceback (most recent call last)",
      "Cell \u001b[1;32mIn[47], line 2\u001b[0m\n\u001b[0;32m      1\u001b[0m \u001b[38;5;66;03m#Using an undeclared variable, such as print(x) when x has not been defined\u001b[39;00m\n\u001b[1;32m----> 2\u001b[0m \u001b[38;5;28mprint\u001b[39m(\u001b[43mx\u001b[49m)\n",
      "\u001b[1;31mNameError\u001b[0m: name 'x' is not defined"
     ]
    }
   ],
   "source": [
    "#Using an undeclared variable, such as print(x) when x has not been defined\n",
    "print(x)"
   ]
  },
  {
   "cell_type": "code",
   "execution_count": 48,
   "id": "13c8dbc1",
   "metadata": {},
   "outputs": [
    {
     "ename": "FileNotFoundError",
     "evalue": "[Errno 2] No such file or directory: 'aryan.txt'",
     "output_type": "error",
     "traceback": [
      "\u001b[1;31m---------------------------------------------------------------------------\u001b[0m",
      "\u001b[1;31mFileNotFoundError\u001b[0m                         Traceback (most recent call last)",
      "Cell \u001b[1;32mIn[48], line 2\u001b[0m\n\u001b[0;32m      1\u001b[0m \u001b[38;5;66;03m#Trying to open a file that does not exist, such as mistyping the file name or looking in the wrong directory. \u001b[39;00m\n\u001b[1;32m----> 2\u001b[0m file \u001b[38;5;241m=\u001b[39m \u001b[38;5;28;43mopen\u001b[39;49m\u001b[43m(\u001b[49m\u001b[38;5;124;43m\"\u001b[39;49m\u001b[38;5;124;43maryan.txt\u001b[39;49m\u001b[38;5;124;43m\"\u001b[39;49m\u001b[43m)\u001b[49m\n",
      "File \u001b[1;32m~\\AppData\\Roaming\\Python\\Python311\\site-packages\\IPython\\core\\interactiveshell.py:282\u001b[0m, in \u001b[0;36m_modified_open\u001b[1;34m(file, *args, **kwargs)\u001b[0m\n\u001b[0;32m    275\u001b[0m \u001b[38;5;28;01mif\u001b[39;00m file \u001b[38;5;129;01min\u001b[39;00m {\u001b[38;5;241m0\u001b[39m, \u001b[38;5;241m1\u001b[39m, \u001b[38;5;241m2\u001b[39m}:\n\u001b[0;32m    276\u001b[0m     \u001b[38;5;28;01mraise\u001b[39;00m \u001b[38;5;167;01mValueError\u001b[39;00m(\n\u001b[0;32m    277\u001b[0m         \u001b[38;5;124mf\u001b[39m\u001b[38;5;124m\"\u001b[39m\u001b[38;5;124mIPython won\u001b[39m\u001b[38;5;124m'\u001b[39m\u001b[38;5;124mt let you open fd=\u001b[39m\u001b[38;5;132;01m{\u001b[39;00mfile\u001b[38;5;132;01m}\u001b[39;00m\u001b[38;5;124m by default \u001b[39m\u001b[38;5;124m\"\u001b[39m\n\u001b[0;32m    278\u001b[0m         \u001b[38;5;124m\"\u001b[39m\u001b[38;5;124mas it is likely to crash IPython. If you know what you are doing, \u001b[39m\u001b[38;5;124m\"\u001b[39m\n\u001b[0;32m    279\u001b[0m         \u001b[38;5;124m\"\u001b[39m\u001b[38;5;124myou can use builtins\u001b[39m\u001b[38;5;124m'\u001b[39m\u001b[38;5;124m open.\u001b[39m\u001b[38;5;124m\"\u001b[39m\n\u001b[0;32m    280\u001b[0m     )\n\u001b[1;32m--> 282\u001b[0m \u001b[38;5;28;01mreturn\u001b[39;00m \u001b[43mio_open\u001b[49m\u001b[43m(\u001b[49m\u001b[43mfile\u001b[49m\u001b[43m,\u001b[49m\u001b[43m \u001b[49m\u001b[38;5;241;43m*\u001b[39;49m\u001b[43margs\u001b[49m\u001b[43m,\u001b[49m\u001b[43m \u001b[49m\u001b[38;5;241;43m*\u001b[39;49m\u001b[38;5;241;43m*\u001b[39;49m\u001b[43mkwargs\u001b[49m\u001b[43m)\u001b[49m\n",
      "\u001b[1;31mFileNotFoundError\u001b[0m: [Errno 2] No such file or directory: 'aryan.txt'"
     ]
    }
   ],
   "source": [
    "#Trying to open a file that does not exist, such as mistyping the file name or looking in the wrong directory. \n",
    "file = open(\"aryan.txt\")"
   ]
  },
  {
   "cell_type": "markdown",
   "id": "1c9452fb",
   "metadata": {},
   "source": [
    "<h3>Question 10 Python</h3>\n",
    "<h4>Encryption is the process of hiding the meaning of a text by substituting letters in the\n",
    "message with other letters, according to some system. If the process is successful, no\n",
    "one but the intended recipient can understand the encrypted message. Cryptanalysis\n",
    "refers to attempts to undo the encryption, even if some details of the encryption are\n",
    "unknown (for example, if an encrypted message has been intercepted). The first step\n",
    "of cryptanalysis is often to build up a table of letter frequencies in the encrypted text.\n",
    "Assume that the string letters is already defined as\n",
    "'abcdefghijklmnopqrstuvwxyz'. Write a function called frequencies()\n",
    "that takes a string as its only parameter, and returns a list of integers, showing the\n",
    "number of times each character appears in the text. Your function may ignore any\n",
    "characters that are not in letters. </h4>"
   ]
  },
  {
   "cell_type": "code",
   "execution_count": 31,
   "id": "40b95f24",
   "metadata": {},
   "outputs": [],
   "source": [
    "def frequencies(data): #Creating function to encrypt\n",
    "    parameter = \"abcdefghijklmnopqrstuvwxyz\" #parameter for encryption\n",
    "    count = 0 #Count number of letter\n",
    "    encrypted_data = [] #To store encrypted data\n",
    "    for i in range(len(parameter)):\n",
    "        for j in range(len(data)):\n",
    "            if parameter[i] == data[j]: #Checking if the parameter data is inside the data or not\n",
    "                count+=1\n",
    "        encrypted_data.append(count) #Appending the letter count\n",
    "        count = 0 #Resseting the count variable\n",
    "    return encrypted_data"
   ]
  },
  {
   "cell_type": "code",
   "execution_count": 32,
   "id": "ac25087f",
   "metadata": {},
   "outputs": [
    {
     "data": {
      "text/plain": [
       "[1, 1, 1, 3, 5, 1, 1, 2, 1, 0, 1, 0, 1, 2, 4, 0, 1, 2, 0, 2, 1, 0, 1, 1, 0, 0]"
      ]
     },
     "execution_count": 32,
     "metadata": {},
     "output_type": "execute_result"
    }
   ],
   "source": [
    "frequencies('The quick red fox got bored and went home.')"
   ]
  },
  {
   "cell_type": "code",
   "execution_count": 33,
   "id": "a20be8c6",
   "metadata": {},
   "outputs": [
    {
     "data": {
      "text/plain": [
       "[1, 0, 0, 0, 1, 0, 0, 0, 0, 0, 0, 1, 0, 0, 0, 2, 0, 0, 0, 0, 0, 0, 0, 0, 0, 0]"
      ]
     },
     "execution_count": 33,
     "metadata": {},
     "output_type": "execute_result"
    }
   ],
   "source": [
    "frequencies('apple')"
   ]
  }
 ],
 "metadata": {
  "kernelspec": {
   "display_name": "Python 3 (ipykernel)",
   "language": "python",
   "name": "python3"
  },
  "language_info": {
   "codemirror_mode": {
    "name": "ipython",
    "version": 3
   },
   "file_extension": ".py",
   "mimetype": "text/x-python",
   "name": "python",
   "nbconvert_exporter": "python",
   "pygments_lexer": "ipython3",
   "version": "3.11.4"
  }
 },
 "nbformat": 4,
 "nbformat_minor": 5
}
