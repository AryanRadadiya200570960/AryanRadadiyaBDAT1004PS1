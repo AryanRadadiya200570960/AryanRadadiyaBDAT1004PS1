{
 "cells": [
  {
   "cell_type": "markdown",
   "id": "34a36b1f",
   "metadata": {},
   "source": [
    "<h3>Question 1 C#</h3>\n",
    "<h4>What data type is each of the following?</h4> <br>\n",
    "5<br>\n",
    "5.0<br>\n",
    "5 > 1<br>\n",
    "'5'<br>\n",
    "5 * 2<br>\n",
    "'5' * 2<br>\n",
    "'5' + '2'<br>\n",
    "5 / 2<br>\n",
    "5 % 2<br>\n",
    "{5, 2, 1}<br>\n",
    "5 == 3<br>\n",
    "Pi (the number)"
   ]
  },
  {
   "cell_type": "code",
   "execution_count": 7,
   "id": "fd1459cf",
   "metadata": {},
   "outputs": [
    {
     "name": "stdout",
     "output_type": "stream",
     "text": [
      "5 is System.Int32 Data Type\n",
      "5 is System.Double Data Type\n",
      "True is System.Boolean Data Type\n",
      "5 is System.Char Data Type\n",
      "10 is System.Int32 Data Type\n",
      "106 is System.Int32 Data Type\n",
      "2 is System.Int32 Data Type\n",
      "1 is System.Int32 Data Type\n",
      "False is System.Boolean Data Type\n",
      "3.14 is System.Double Data Type\n"
     ]
    }
   ],
   "source": [
    "//Storing value in data variable in array formate\n",
    "object[] data = new object[] { 5, 5.0, 5>1, '5', 5 * 2, '5' * 2, 5/2, 5%2, 5==3, 3.14 };\n",
    "\n",
    "foreach (var variable in data) { //Running loop to check data type of variable \n",
    "    Console.WriteLine($\"{variable} is {variable.GetType()} Data Type\"); //It uses .GetType() function to check Data Type\n",
    "}"
   ]
  },
  {
   "cell_type": "markdown",
   "id": "9e3bfc23",
   "metadata": {},
   "source": [
    "<h3>Question 2 C#</h3>\n",
    "<h4>Write (and evaluate) C# expressions that answer these questions:</h4>\n",
    "<h5>a. How many letters are there in 'Supercalifragilisticexpialidocious'?<br><br>\n",
    "b. Does 'Supercalifragilisticexpialidocious' contain 'ice' as a substring?  <br><br>\n",
    "c. Which of the following words is the longest:\n",
    "Supercalifragilisticexpialidocious, Honorificabilitudinitatibus, or\n",
    "Bababadalgharaghtakamminarronnkonn?<br><br>\n",
    "d. Which composer comes first in the dictionary: 'Berlioz', 'Borodin', 'Brian',\n",
    "'Bartok', 'Bellini', 'Buxtehude', 'Bernstein'. Which one comes last?<br>\n",
    "</h5>"
   ]
  },
  {
   "cell_type": "code",
   "execution_count": 35,
   "id": "9c472c56",
   "metadata": {},
   "outputs": [],
   "source": [
    "//Defining Variable and storing values\n",
    "string x = \"Supercalifragilisticexpialidocious\";\n",
    "string y = \"Honorificabilitudinitatibus\";\n",
    "string z = \"Bababadalgharaghtakamminarronnkonn\";"
   ]
  },
  {
   "cell_type": "code",
   "execution_count": 36,
   "id": "7c7f89f4",
   "metadata": {},
   "outputs": [
    {
     "name": "stdout",
     "output_type": "stream",
     "text": [
      "Answer for Question a is 34\r\n"
     ]
    }
   ],
   "source": [
    "//Finding Length using .Length function\n",
    "Console.WriteLine($\"Answer for Question a is {x.Length}\");"
   ]
  },
  {
   "cell_type": "code",
   "execution_count": 37,
   "id": "7e548fbb",
   "metadata": {},
   "outputs": [
    {
     "name": "stdout",
     "output_type": "stream",
     "text": [
      "Answer for Question b is True, Supercalifragilisticexpialidocious Contains 'ice'.\r\n"
     ]
    }
   ],
   "source": [
    "//Finding if Supercalifragilisticexpialidocious contains 'ice'\n",
    "Console.WriteLine($\"Answer for Question b is {a.Contains(\"ice\")}, {x} Contains 'ice'.\");"
   ]
  },
  {
   "cell_type": "code",
   "execution_count": 38,
   "id": "e626368f",
   "metadata": {},
   "outputs": [
    {
     "name": "stdout",
     "output_type": "stream",
     "text": [
      "The Longest word is Supercalifragilisticexpialidocious, Bababadalgharaghtakamminarronnkonn\r\n"
     ]
    }
   ],
   "source": [
    "//Checking which are the longest words using nested if else\n",
    "if (x.Length >= y.Length && x.Length >= z.Length){\n",
    "    if(x.Length == y.Length){\n",
    "        Console.WriteLine($\"The Longest word is {x}, {y}\");\n",
    "    }\n",
    "    else if(x.Length == z.Length){\n",
    "        Console.WriteLine($\"The Longest word is {x}, {z}\");\n",
    "    }\n",
    "    else{\n",
    "        Console.WriteLine($\"The Longest word is {x}\");\n",
    "    }\n",
    "}\n",
    "else if (y.Length >= x.Length && y.Length >= z.Length){\n",
    "    if(y.Length == x.Length){\n",
    "        Console.WriteLine($\"The Longest word is {y}, {x}\");\n",
    "    }\n",
    "    else if(y.Length == z.Length){\n",
    "        Console.WriteLine($\"The Longest word is {y}, {z}\");\n",
    "    }\n",
    "    else{\n",
    "        Console.WriteLine($\"The Longest word is {y}\");\n",
    "    }\n",
    "}\n",
    "else if (z.Length >= x.Length && z.Length >= y.Length){\n",
    "    if(z.Length == x.Length){\n",
    "        Console.WriteLine($\"The Longest word is {z}, {x}\");\n",
    "    }\n",
    "    else if(z.Length == y.Length){\n",
    "        Console.WriteLine($\"The Longest word is {z}, {y}\");\n",
    "    }\n",
    "    else{\n",
    "        Console.WriteLine($\"The Longest word is {z}\");\n",
    "    }\n",
    "}"
   ]
  },
  {
   "cell_type": "code",
   "execution_count": 39,
   "id": "ea47ff5c",
   "metadata": {},
   "outputs": [
    {
     "name": "stdout",
     "output_type": "stream",
     "text": [
      "Bartok comes first\n",
      "Buxtehude comes Last\n"
     ]
    }
   ],
   "source": [
    "//Check which word comes first in the dictionary and which comes last\n",
    "string[] items = {\"Berlioz\", \"Borodin\", \"Brian\", \"Bartok\", \"Bellini\", \"Buxtehude\", \"Bernstein\"};\n",
    "Array.Sort(items);\n",
    "Console.WriteLine($\"{items[0]} comes first\");\n",
    "Console.WriteLine($\"{items[^1]} comes Last\");"
   ]
  },
  {
   "cell_type": "markdown",
   "id": "96fb0ed9",
   "metadata": {},
   "source": [
    "<h3>Question 3 C#</h3>\n",
    "<h4>Implement function triangleArea(a,b,c) that takes as input the lengths of the 3\n",
    "sides of a triangle and returns the area of the triangle. By Heron's formula, the area\n",
    "of a triangle with side lengths a, b, and c is\n",
    "sqrt(s(s - a)(s -b)(s -c))\n",
    ", where\n",
    "s = (a+b+c)/2. </h4>"
   ]
  },
  {
   "cell_type": "code",
   "execution_count": 43,
   "id": "3ffe20df",
   "metadata": {},
   "outputs": [],
   "source": [
    "// writing a function to find area of triangle\n",
    "static void triangleArea(double a, double b, double c) {\n",
    "    double s = (a+b+c)/2;\n",
    "    double d = s*(s-a)*(s-b)*(s-c);\n",
    "    double area = Math.Sqrt(s);\n",
    "    Console.WriteLine(area);\n",
    "}"
   ]
  },
  {
   "cell_type": "code",
   "execution_count": 44,
   "id": "fc9dacc9",
   "metadata": {},
   "outputs": [
    {
     "name": "stdout",
     "output_type": "stream",
     "text": [
      "1.7320508075688772\r\n"
     ]
    }
   ],
   "source": [
    "triangleArea(2,2,2);"
   ]
  },
  {
   "cell_type": "markdown",
   "id": "c2a44504",
   "metadata": {},
   "source": [
    "<h3>Question 4 C#</h3>\n",
    "<h4>Write a program in C# Sharp to separate odd and even integers in separate arrays.<br>\n",
    "Go to the editor<br>\n",
    "Test Data :</h4>\n",
    "Input the number of elements to be stored in the array :5<br>\n",
    "Input 5 elements in the array :<br>\n",
    "element - 0 : 25<br>\n",
    "element - 1 : 47<br>\n",
    "element - 2 : 42<br>\n",
    "element - 3 : 56<br>\n",
    "element - 4 : 32<br>\n",
    "Expected Output:<br>\n",
    "The Even elements are:<br>\n",
    "42 56 32<br>\n",
    "The Odd elements are :<br>\n",
    "25 47<br>"
   ]
  },
  {
   "cell_type": "code",
   "execution_count": 27,
   "id": "943f8b87",
   "metadata": {},
   "outputs": [
    {
     "name": "stdout",
     "output_type": "stream",
     "text": [
      "Even Elements\n",
      "42\n",
      "56\n",
      "32\n",
      "Odd Elements\n",
      "25\n",
      "47\n"
     ]
    }
   ],
   "source": [
    "//seperating the array in odd and even manner\n",
    "int[] x = {25, 47, 42, 56, 32};\n",
    "int[] even = new int[5]; //defining empty array to store sorted array\n",
    "int[] odd = new int[5];\n",
    "int a = 0;\n",
    "int b = 0;\n",
    "for (int i = 0; i < x.Length;i++){ \n",
    "    if (x[i]%2==0){ //checking if the value is odd or even\n",
    "        even[a] = x[i]; //if even then store in the array\n",
    "        a++;\n",
    "    }else{\n",
    "        odd[b] = x[i]; //if odd the store in the array\n",
    "        b++;\n",
    "    }\n",
    "}\n",
    "Console.WriteLine(\"Even Elements\");\n",
    "for(int h = 0; h < a; h++){\n",
    "    Console.WriteLine(even[h]);\n",
    "}\n",
    "Console.WriteLine(\"Odd Elements\");\n",
    "for(int p = 0; p < b; p++){\n",
    "    Console.WriteLine(odd[p]);\n",
    "}"
   ]
  },
  {
   "cell_type": "markdown",
   "id": "8b251f30",
   "metadata": {},
   "source": [
    "<h3>Question 5 C#</h3>\n",
    "<h4>a. Write a function inside(x,y,x1,y1,x2,y2) that returns True or False\n",
    "depending on whether the point (x,y) lies in the rectangle with lower left\n",
    "corner (x1,y1) and upper right corner (x2,y2).<br><br>\n",
    "b. Use function inside() from part a. to write an expression that tests whether\n",
    "the point (1,1) lies in both of the following rectangles: one with lower left\n",
    "corner (0.3, 0.5) and upper right corner (1.1, 0.7) and the other with lower\n",
    "left corner (0.5, 0.2) and upper right corner (1.1, 2). </h4>"
   ]
  },
  {
   "cell_type": "code",
   "execution_count": 5,
   "id": "2c6a3566",
   "metadata": {},
   "outputs": [],
   "source": [
    "//Answer for question a\n",
    "//creating function to check weter the point lie inside the rectangle.\n",
    "static void Inside(double x, double y, double x1, double y1, double x2, double y2)\n",
    "{\n",
    "    if (x > x1 && x < x2 && y > y1 && y < y2){ //Condition to check weather the points are inside the rectangle\n",
    "        Console.WriteLine(\"True\");\n",
    "    }else{\n",
    "        Console.WriteLine(\"False\");\n",
    "    }\n",
    "}"
   ]
  },
  {
   "cell_type": "code",
   "execution_count": 6,
   "id": "6bf2748d",
   "metadata": {},
   "outputs": [
    {
     "name": "stdout",
     "output_type": "stream",
     "text": [
      "True\n",
      "False\n"
     ]
    }
   ],
   "source": [
    "//Calling the Inside function which we created\n",
    "Inside(1,1,0,0,2,3);\n",
    "Inside(-1,-1,0,0,2,3);"
   ]
  },
  {
   "cell_type": "code",
   "execution_count": 9,
   "id": "f8ad6108",
   "metadata": {},
   "outputs": [
    {
     "name": "stdout",
     "output_type": "stream",
     "text": [
      "False\n",
      "True\n"
     ]
    }
   ],
   "source": [
    "//Answer for questio b\n",
    "//We will use the Inside() function we created\n",
    "Inside(1,1,0.3,0.5,1.1,0.7);\n",
    "Inside(1,1,0.5,0.2,1.1,2);"
   ]
  },
  {
   "cell_type": "code",
   "execution_count": null,
   "id": "c826f8f6",
   "metadata": {},
   "outputs": [],
   "source": []
  }
 ],
 "metadata": {
  "kernelspec": {
   "display_name": ".NET (C#)",
   "language": "C#",
   "name": ".net-csharp"
  },
  "language_info": {
   "file_extension": ".cs",
   "mimetype": "text/x-csharp",
   "name": "C#",
   "pygments_lexer": "csharp",
   "version": "8.0"
  }
 },
 "nbformat": 4,
 "nbformat_minor": 5
}
